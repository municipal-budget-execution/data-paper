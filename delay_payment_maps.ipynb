{
 "cells": [
  {
   "cell_type": "code",
   "execution_count": null,
   "metadata": {
    "id": "bTknz9vzrC_f"
   },
   "outputs": [],
   "source": [
    "# Directory \n",
    "input_path = os.environ.get('input_path')\n",
    "fig_output = os.environ.get('fig_output')\n",
    "tab_output = os.environ.get('tab_output')\n",
    "\n",
    "# Queries config\n",
    "project_id_bq = os.environ.get('project_id_bq')\n",
    "run_query = os.environ.get('run_query')"
   ]
  },
  {
   "cell_type": "code",
   "execution_count": null,
   "metadata": {},
   "outputs": [],
   "source": [
    "# Query region information from basedosdados \n",
    "\n",
    "def run_query_and_save_results():\n",
    "\n",
    "    query = '''\n",
    "    SELECT nome_regiao AS region, id_municipio AS municipality FROM basedosdados.br_bd_diretorios_brasil.municipio\n",
    "    '''\n",
    "    region = bd.read_sql(query, billing_project_id=project_id_bq)\n",
    "    region.to_csv(os.path.join(input_path,'region.csv'), index=False, na_rep='', float_format='%.2f')\n",
    "\n",
    "if __name__ == '__main__':\n",
    "    if run_query == 'True':\n",
    "        run_query_and_save_results()"
   ]
  },
  {
   "cell_type": "markdown",
   "metadata": {
    "id": "M7gjt3wUs87T"
   },
   "source": [
    "## Delay Payment Maps"
   ]
  },
  {
   "cell_type": "code",
   "execution_count": null,
   "metadata": {
    "id": "pt7Se0uAtEPV"
   },
   "outputs": [],
   "source": [
    "# Input Budget Execution Index, which has some statistics about budget execution\n",
    "\n",
    "df = pd.read_csv(os.path.join(input_path, 'full_budget_execution_index.csv'))\n",
    "df['wavg_delay'] = df['wavg_delay'].replace(np.nan, 1000).astype(float).replace(1000, \"\")\n",
    "df = df.query('year == 2018 & wavg_delay != \"\"')\n",
    "df['wavg_delay'] = df['wavg_delay'].astype(float)\n",
    "df['municipality'] = df['municipality'].astype(str)\n",
    "\n",
    "# Input region information from basedosdados municipality directory\n",
    "\n",
    "region = pd.read_csv(os.path.join(input_path, 'region.csv'))\n",
    "region['municipality'] = region['municipality'].astype(str)\n",
    "\n",
    "# Geometry file and join with below dataframe\n",
    "ufs = gpd.read_file(os.path.join(input_path, 'BRUFE250GC_SIR.shp'))\n",
    "brazil = gpd.read_file(os.path.join(input_path, 'BRMUE250GC_SIR.shp'))\n",
    "brazil['CD_GEOCUF'] = brazil['CD_GEOCMU'].str.slice(0, 2)\n",
    "brazil = pd.merge(brazil, ufs, how='left', on=['CD_GEOCUF'])\n",
    "brazil = pd.merge(brazil, region, how='left', left_on=['CD_GEOCMU'], right_on=['municipality'])\n",
    "map = pd.merge(brazil, df, how='left', left_on=['CD_GEOCMU'], right_on=['municipality'])\n",
    "map = GeoDataFrame(map)\n",
    "# Restrict the area plot just to data. Yet, we don't have North, MiddleWest and some states from Northeast in database\n",
    "map_northeast = map.query('region == \"Nordeste\"').drop('geometry_y', axis=1).rename(columns={'geometry_x':'geometry'})\n",
    "map_south_southeast = map.query('region == \"Sul\" | region == \"Sudeste\"').drop('geometry_y', axis=1).rename(columns={'geometry_x':'geometry'})"
   ]
  },
  {
   "cell_type": "code",
   "execution_count": null,
   "metadata": {
    "id": "TWCog79zs__h"
   },
   "outputs": [],
   "source": [
    "# Weighted Average Delay Payment\n",
    "# Instead of using a continuous colormap, use discrete intervals for clarity\n",
    "bins = [1, 12, 18, 24, 30, 38, 48, 70, 85, 100]\n",
    "colors = ['#f0f9e8','#ccebc5','#a8ddb5','#7bccc4','#4eb3d3','#2b8cbe','#08589e', '#1a476f', '#191970']\n",
    "cmap = mpl.colors.ListedColormap(colors)\n",
    "norm = mpl.colors.BoundaryNorm(bins, cmap.N)\n",
    "\n",
    "# Creation of image with Weighted Average Delay Payment\n",
    "fig, ((ax1, ax2)) = plt.subplots(2, 1, figsize=(8,10))\n",
    "ax = plt.gca()\n",
    "gs = gridspec.GridSpec(2, 1, height_ratios=[0.2, 0.6]) #better proportion betweens regions\n",
    "ax1 = plt.subplot(gs[0])\n",
    "ax2 = plt.subplot(gs[1])\n",
    "\n",
    "# Plot southeast & south region\n",
    "im1 = map_south_southeast.plot(column='wavg_delay', ax=ax2, legend=False, cmap=cmap, linewidth=0.3, norm=norm, zorder=1)\n",
    "ufs.query('NM_REGIAO == \"SUL\" | NM_REGIAO == \"SUDESTE\"').plot(ax=ax2, color='none', edgecolor='black', linewidth=0.5, zorder=2)\n",
    "ax2.axis('off')\n",
    "\n",
    "# Plot some states from northeast region\n",
    "im2 = map_northeast.plot(column='wavg_delay', ax=ax1, legend=False, cmap=cmap, linewidth=0.3, norm=norm, zorder=1)\n",
    "ufs.query('NM_ESTADO == \"CEARÁ\" | NM_ESTADO == \"RIO GRANDE DO NORTE\" | NM_ESTADO == \"PARAÍBA\" | NM_ESTADO == \"PERNAMBUCO\"').plot(ax=ax1, color='none', edgecolor='black', linewidth=0.5, zorder=2)\n",
    "ax1.axis('off')\n",
    "\n",
    "# Adjust colorbar positioning and add it to the figure\n",
    "cbar_ax_position = [0.2, 0.01, 0.4, 0.02]  # [left, bottom, width, height]\n",
    "cbar_ax = fig.add_axes(cbar_ax_position)\n",
    "cbar = fig.colorbar(mpl.cm.ScalarMappable(norm=norm, cmap=cmap), cax = cbar_ax, orientation='horizontal', ticks = bins, drawedges = False, boundaries = bins)\n",
    "cbar.set_label('Weighted Average payment delay (days)', rotation=0, labelpad=10)\n",
    "cbar.outline.set_visible(False)\n",
    "\n",
    "for tick in cbar.ax.get_xticks():\n",
    "    cbar.ax.axvline(tick, color='black', linewidth=0.6)\n",
    "\n",
    "# Adjust the spacing between the subplots\n",
    "fig.subplots_adjust(wspace=-0.5, bottom=0.02)  # Adjust the bottom space to make room for the colorbar\n",
    "\n",
    "south_southeast_dissolved = ufs.query('NM_REGIAO == \"SUL\" | NM_REGIAO == \"SUDESTE\"').dissolve(by='NM_REGIAO')\n",
    "northeast_dissolved = ufs.query('NM_ESTADO == \"CEARÁ\" | NM_ESTADO == \"RIO GRANDE DO NORTE\" | NM_ESTADO == \"PARAÍBA\" | NM_ESTADO == \"PERNAMBUCO\"').dissolve(by='NM_REGIAO')\n",
    "\n",
    "# Plot only the external border of the dissolved shape\n",
    "south_southeast_dissolved.plot(ax=ax2, color='none', edgecolor='black', linewidth = 0.1)\n",
    "northeast_dissolved.plot(ax=ax1, color='none', edgecolor='black', linewidth = 0.1)\n",
    "\n",
    "# Set titles with y parameter to align them\n",
    "title_position = 1.02\n",
    "ax2.set_title(r\"Minas Gerais, São Paulo, Paraná\"\n",
    "              \"\\n\" r\"and Rio Grande do Sul\", y=title_position)\n",
    "ax1.set_title(\"Ceará and Paraíba\", y=title_position)\n",
    "\n",
    "plt.tight_layout()\n",
    "\n",
    "plt.savefig(os.path.join(fig_output, 'wavg_delay_2018.pdf'), bbox_inches='tight')\n",
    "plt.savefig(os.path.join(fig_output, 'wavg_delay_2018.png'), transparent=True, dpi=fig.dpi, bbox_inches='tight')"
   ]
  },
  {
   "cell_type": "code",
   "execution_count": null,
   "metadata": {
    "id": "Jifr1NLCu5Zi"
   },
   "outputs": [],
   "source": [
    "# Share of commitments paid over 30 days by municipality\n",
    "# Instead of using a continuous colormap, use discrete intervals for clarity\n",
    "bins = [0.1, 0.2, 0.3, 0.4, 0.5, 0.6, 0.7, 0.8, 0.9, 1]\n",
    "colors = ['#f0f9e8','#ccebc5','#a8ddb5','#7bccc4','#4eb3d3','#2b8cbe','#08589e', '#1a476f', '#191970']\n",
    "cmap = mpl.colors.ListedColormap(colors)\n",
    "norm = mpl.colors.BoundaryNorm(bins, cmap.N)\n",
    "\n",
    "# Creation of image with Over 30 days payment\n",
    "fig, ((ax1, ax2)) = plt.subplots(2, 1, figsize=(8,10))\n",
    "ax = plt.gca()\n",
    "gs = gridspec.GridSpec(2, 1, height_ratios=[0.2, 0.6])\n",
    "ax1 = plt.subplot(gs[0])\n",
    "ax2 = plt.subplot(gs[1])\n",
    "\n",
    "# Plot southeast & south region\n",
    "im1 = map_south_southeast.plot(column='over_30days', ax=ax2, legend=False, cmap=cmap, linewidth=0.3, norm=norm, zorder=1)\n",
    "ufs.query('NM_REGIAO == \"SUL\" | NM_REGIAO == \"SUDESTE\"').plot(ax=ax2, color='none', edgecolor='black', linewidth=0.5, zorder=2)\n",
    "ax2.axis('off')\n",
    "\n",
    "# Plot some states from northeast region\n",
    "im2 = map_northeast.plot(column='over_30days', ax=ax1, legend=False, cmap=cmap, linewidth=0.3, norm=norm, zorder=1)\n",
    "ufs.query('NM_ESTADO == \"CEARÁ\" | NM_ESTADO == \"RIO GRANDE DO NORTE\" | NM_ESTADO == \"PARAÍBA\" | NM_ESTADO == \"PERNAMBUCO\"').plot(ax=ax1, color='none', edgecolor='black', linewidth=0.5, zorder=2)\n",
    "ax1.axis('off')\n",
    "\n",
    "# Adjust colorbar positioning and add it to the figure\n",
    "cbar_ax_position = [0.2, 0.01, 0.4, 0.02]  # [left, bottom, width, height]\n",
    "cbar_ax = fig.add_axes(cbar_ax_position)\n",
    "cbar = fig.colorbar(mpl.cm.ScalarMappable(norm=norm, cmap=cmap), cax = cbar_ax, orientation='horizontal', ticks = bins, drawedges = False, boundaries = bins)\n",
    "cbar.set_label('Share of payments paid over 30 days (%)', rotation=0, labelpad=10)\n",
    "cbar.outline.set_visible(False)\n",
    "\n",
    "for tick in cbar.ax.get_xticks():\n",
    "    cbar.ax.axvline(tick, color='black', linewidth=0.6)\n",
    "\n",
    "# Adjust the spacing between the subplots\n",
    "fig.subplots_adjust(wspace=-0.5, bottom=0.02)  # Adjust the bottom space to make room for the colorbar\n",
    "\n",
    "south_southeast_dissolved = ufs.query('NM_REGIAO == \"SUL\" | NM_REGIAO == \"SUDESTE\"').dissolve(by='NM_REGIAO')\n",
    "northeast_dissolved = ufs.query('NM_ESTADO == \"CEARÁ\" | NM_ESTADO == \"RIO GRANDE DO NORTE\" | NM_ESTADO == \"PARAÍBA\" | NM_ESTADO == \"PERNAMBUCO\"').dissolve(by='NM_REGIAO')\n",
    "\n",
    "# Plot only the external border of the dissolved shape\n",
    "south_southeast_dissolved.plot(ax=ax2, color='none', edgecolor='black', linewidth = 0.1)\n",
    "northeast_dissolved.plot(ax=ax1, color='none', edgecolor='black', linewidth = 0.1)\n",
    "\n",
    "# Set titles with y parameter to align them\n",
    "title_position = 1.02  # Adjust this value if necessary to change vertical position\n",
    "ax2.set_title(r\"Minas Gerais, São Paulo, Paraná\"\n",
    "              \"\\n\" r\"and Rio Grande do Sul\", y=title_position)\n",
    "ax1.set_title(\"Ceará and Paraíba\", y=title_position)\n",
    "\n",
    "plt.tight_layout()\n",
    "\n",
    "plt.savefig(os.path.join(fig_output, 'over30_delay_2018.pdf'), bbox_inches='tight')\n",
    "plt.savefig(os.path.join(fig_output, 'over30_delay_2018.png'), transparent=True, dpi=fig.dpi, bbox_inches='tight')"
   ]
  }
 ],
 "metadata": {
  "colab": {
   "provenance": []
  },
  "kernelspec": {
   "display_name": "Python 3 (ipykernel)",
   "language": "python",
   "name": "python3"
  },
  "language_info": {
   "codemirror_mode": {
    "name": "ipython",
    "version": 3
   },
   "file_extension": ".py",
   "mimetype": "text/x-python",
   "name": "python",
   "nbconvert_exporter": "python",
   "pygments_lexer": "ipython3",
   "version": "3.10.9"
  }
 },
 "nbformat": 4,
 "nbformat_minor": 1
}
